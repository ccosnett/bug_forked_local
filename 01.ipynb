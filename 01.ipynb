{
 "cells": [
  {
   "cell_type": "code",
   "execution_count": 10,
   "metadata": {},
   "outputs": [],
   "source": [
    "# ASSUMPTIONS:\n",
    "# add these lines to your \"run.py\" file\n",
    "#\n",
    "# pools = [\"USDC/WETH-0.05\", \"WBTC/WETH-0.05\"]\n",
    "# \n",
    "# agent1 = UniswapV3PoolWealthAgent(\n",
    "#     initial_portfolio= {\"USDC\": Decimal(50_000), \"WETH\": Decimal(25),\"WBTC\": Decimal(1)},\n",
    "#     name=\"bitcoin_buyer\",\n",
    "#)\n",
    "\n",
    "\n",
    "\n",
    "import logging\n",
    "from datetime import datetime, timedelta\n",
    "from decimal import Decimal\n",
    "from typing import Any, Optional\n",
    "\n",
    "from policy import UniswapV3PoolWealthAgent\n",
    "from dateutil import parser as dateparser\n",
    "from policy import SingleAction\n",
    "#from policies. import PassiveConcentratedLP\n",
    "\n",
    "from dojo.common.constants import Chain\n",
    "from dojo.environments import UniswapV3Env\n",
    "from dojo.runners import backtest_run\n",
    "\n",
    "#logging.basicConfig(format=\"%(asctime)s - %(message)s\", level=logging.INFO)\n",
    "\n",
    "\n",
    "    # SNIPPET 1 START\n",
    "pool0 = \"USDC/WETH-0.05\"\n",
    "#pool1 = \"USDC/WETH-0.3\"\n",
    "pool1 = \"WBTC/WETH-0.05\"\n",
    "#pool1 = \"USDC/WETH-0.3\"\n",
    "pools = [ \"WBTC/WETH-0.05\"]\n",
    "\n",
    "run_length=timedelta(hours=0.05)    \n",
    "start_time = dateparser.parse(\"2024-06-20 00:00:00 UTC\")\n",
    "end_time = start_time + run_length\n",
    "end_time = dateparser.parse(\"2024-06-21 00:00:00 UTC\")\n",
    "\n",
    "\n",
    "agent1 = UniswapV3PoolWealthAgent(\n",
    "     initial_portfolio= {\"USDC\": Decimal(50_000), \"WETH\": Decimal(25),\"WBTC\": Decimal(1), \"ETH\": Decimal(1000)},\n",
    "     name=\"bitcoin_buyer\")\n",
    "\n",
    "\n",
    "  \n",
    "    # Simulation environment (Uniswap V3)\n",
    "env = UniswapV3Env(\n",
    "        chain=Chain.ETHEREUM,\n",
    "        date_range=(start_time, end_time),\n",
    "        agents=[agent1],\n",
    "        pools=pools,\n",
    "        backend_type=\"local\",\n",
    "        market_impact=\"replay\",\n",
    "    )\n",
    "\n",
    "    # Policies \n",
    "    #mvag_policy = MovingAveragePolicy(\n",
    "    #   agent=agent1, pool=\"USDC/WETH-0.05\", short_window=25, long_window=100\n",
    "    #)\n",
    "\n",
    "dashboard_server_port=8884\n",
    "simulation_status_bar=True\n",
    "auto_close=True\n",
    "policy=SingleAction(agent=agent1)\n",
    "\n",
    "\n",
    "    # SNIPPET 1 END\n"
   ]
  },
  {
   "cell_type": "code",
   "execution_count": 11,
   "metadata": {},
   "outputs": [
    {
     "name": "stderr",
     "output_type": "stream",
     "text": [
      "2024-10-27 18:23:08,367 - Dashboard will be available on dashboard_server_port=1111.\n",
      "2024-10-27 18:23:08,368 - Wait until the simulation has finished setup and is running to connect the dashboard to the simulation!\n",
      "\n",
      "2024-10-27 18:23:08,368 - =============== CONNECT NETWORK =============\n",
      "2024-10-27 18:23:08,828 - anvil --no-mining --host 127.0.0.1 --accounts 1 --balance 10000000000000000000 --chain-id 31337 --port 60559 --base-fee 0 --disable-block-gas-limit --ipc /tmp/anvil_60559.ipc --prune-history --order fifo --transaction-block-keeper 64\n",
      "2024-10-27 18:23:08,865 - ==========================================\n",
      "2024-10-27 18:23:08,866 - =============== SETUP CONTRACTS =============\n",
      "2024-10-27 18:23:08,876 - Deployed WBTC at address 0x5FbDB2315678afecb367f032d93F642f64180aa3\n",
      "2024-10-27 18:23:08,892 - Deployed WETH at address 0x9fE46736679d2D9a65F0992F2272dE9f3c7fa6e0\n",
      "2024-10-27 18:23:08,914 - Deployed NonfungibleTokenPositionDescriptor at address 0xec3fBf694de486e62c81bAFf3CEea25eF2DcCeE2\n",
      "2024-10-27 18:23:08,969 - Deployed Factory at address 0x1F98431c8aD98523631AE4a59f267346ea31F984\n",
      "2024-10-27 18:23:09,002 - Deployed SwapRouter at address 0xE592427A0AEce92De3Edee1F18E0157C05861564\n",
      "2024-10-27 18:23:09,057 - Deployed NonfungiblePositionManager at address 0xC36442b4a4522E871399CD717aBDD847Ab11FE88\n",
      "2024-10-27 18:23:09,077 - Deployed WBTC/WETH 0.05 pool at address 0x0231AAf405DEFa6c1dFaB5D45692B288A4ee3Bf6\n",
      "2024-10-27 18:23:09,083 - ==========================================\n",
      "2024-10-27 18:23:09,083 - ============== SETUP AGENTS ==============\n",
      "2024-10-27 18:23:09,087 - MarketAgent account: 0xD728E36D42A1F9167A95FE44D88b5a12bb4246cc\n",
      "2024-10-27 18:23:09,092 - Funded 1146456329082338558367630066167664668380339065022737608170768989969561.53511936 WBTC from 0xf39Fd6e51aad88F6F4ce6aB8827279cffFb92266 to MarketAgent at address 0xD728E36D42A1F9167A95FE44D88b5a12bb4246cc\n",
      "2024-10-27 18:23:09,097 - Funded 114645632908233855836763006616766466838033906502273760817076.898996956153511936 WETH from 0xf39Fd6e51aad88F6F4ce6aB8827279cffFb92266 to MarketAgent at address 0xD728E36D42A1F9167A95FE44D88b5a12bb4246cc\n",
      "2024-10-27 18:23:09,104 - MarketAgent portfolio: {'WBTC': Decimal('1146456329082338558367630066167664668380339065022737608170768989969561.53511936'), 'WETH': Decimal('114645632908233855836763006616766466838033906502273760817076.898996956153511936'), 'ETH': Decimal('500000000')}\n",
      "2024-10-27 18:23:09,129 - bitcoin_buyer account: 0x4e8b7F8092e02CcdD44Fc143c7c9C8F97888Bd4F\n"
     ]
    },
    {
     "ename": "ValueError",
     "evalue": "Requested contract that has not been registered: USDC",
     "output_type": "error",
     "traceback": [
      "\u001b[0;31m---------------------------------------------------------------------------\u001b[0m",
      "\u001b[0;31mValueError\u001b[0m                                Traceback (most recent call last)",
      "Cell \u001b[0;32mIn[11], line 1\u001b[0m\n\u001b[0;32m----> 1\u001b[0m \u001b[43mbacktest_run\u001b[49m\u001b[43m(\u001b[49m\n\u001b[1;32m      2\u001b[0m \u001b[43m        \u001b[49m\u001b[43menv\u001b[49m\u001b[43m,\u001b[49m\n\u001b[1;32m      3\u001b[0m \u001b[43m        \u001b[49m\u001b[43m[\u001b[49m\u001b[43mpolicy\u001b[49m\u001b[43m]\u001b[49m\u001b[43m,\u001b[49m\n\u001b[1;32m      4\u001b[0m \u001b[43m        \u001b[49m\u001b[43mdashboard_server_port\u001b[49m\u001b[38;5;241;43m=\u001b[39;49m\u001b[38;5;241;43m1111\u001b[39;49m\u001b[43m,\u001b[49m\n\u001b[1;32m      5\u001b[0m \u001b[43m        \u001b[49m\u001b[43mauto_close\u001b[49m\u001b[38;5;241;43m=\u001b[39;49m\u001b[43mauto_close\u001b[49m\u001b[43m,\u001b[49m\n\u001b[1;32m      6\u001b[0m \u001b[43m        \u001b[49m\u001b[43msimulation_status_bar\u001b[49m\u001b[38;5;241;43m=\u001b[39;49m\u001b[43msimulation_status_bar\u001b[49m\u001b[43m,\u001b[49m\n\u001b[1;32m      7\u001b[0m \u001b[43m    \u001b[49m\u001b[43m)\u001b[49m\n",
      "File \u001b[0;32mdojo/runners/backtest_runner.py:59\u001b[0m, in \u001b[0;36mdojo.runners.backtest_runner.backtest_run\u001b[0;34m()\u001b[0m\n",
      "File \u001b[0;32mdojo/environments/base_environments.py:246\u001b[0m, in \u001b[0;36mdojo.environments.base_environments.BaseEnvironment.reset\u001b[0;34m()\u001b[0m\n",
      "File \u001b[0;32mdojo/environments/base_environments.py:214\u001b[0m, in \u001b[0;36mdojo.environments.base_environments.BaseEnvironment._setup_agents\u001b[0;34m()\u001b[0m\n",
      "File \u001b[0;32mdojo/agents/base_agent.py:321\u001b[0m, in \u001b[0;36mdojo.agents.base_agent.BaseAgent.setup\u001b[0;34m()\u001b[0m\n",
      "File \u001b[0;32mdojo/agents/base_agent.py:298\u001b[0m, in \u001b[0;36mdojo.agents.base_agent.BaseAgent._setup_erc20_local\u001b[0;34m()\u001b[0m\n",
      "File \u001b[0;32mdojo/agents/base_agent.py:205\u001b[0m, in \u001b[0;36mdojo.agents.base_agent.BaseAgent.fund_erc20\u001b[0;34m()\u001b[0m\n",
      "File \u001b[0;32mdojo/network/base_backend.py:436\u001b[0m, in \u001b[0;36mdojo.network.base_backend.BaseBackend.get_contract\u001b[0;34m()\u001b[0m\n",
      "\u001b[0;31mValueError\u001b[0m: Requested contract that has not been registered: USDC"
     ]
    }
   ],
   "source": [
    "backtest_run(\n",
    "        env,\n",
    "        [policy],\n",
    "        dashboard_server_port=1111,\n",
    "        auto_close=auto_close,\n",
    "        simulation_status_bar=simulation_status_bar,\n",
    "    )"
   ]
  },
  {
   "cell_type": "code",
   "execution_count": 4,
   "metadata": {},
   "outputs": [
    {
     "data": {
      "text/plain": [
       "[1]"
      ]
     },
     "execution_count": 4,
     "metadata": {},
     "output_type": "execute_result"
    },
    {
     "ename": "",
     "evalue": "",
     "output_type": "error",
     "traceback": [
      "\u001b[1;31mThe Kernel crashed while executing code in the current cell or a previous cell. \n",
      "\u001b[1;31mPlease review the code in the cell(s) to identify a possible cause of the failure. \n",
      "\u001b[1;31mClick <a href='https://aka.ms/vscodeJupyterKernelCrash'>here</a> for more info. \n",
      "\u001b[1;31mView Jupyter <a href='command:jupyter.viewOutput'>log</a> for further details."
     ]
    }
   ],
   "source": [
    "def flatten(nested_list):\n",
    "    result = []\n",
    "    for item in nested_list:\n",
    "        if isinstance(item, list):\n",
    "            result.extend(flatten(item))\n",
    "        else:\n",
    "            result.append(item)\n",
    "    return result\n",
    "\n",
    "\n",
    "flatten([[],[1]])\n",
    "#[[]]"
   ]
  }
 ],
 "metadata": {
  "kernelspec": {
   "display_name": ".venv",
   "language": "python",
   "name": "python3"
  },
  "language_info": {
   "codemirror_mode": {
    "name": "ipython",
    "version": 3
   },
   "file_extension": ".py",
   "mimetype": "text/x-python",
   "name": "python",
   "nbconvert_exporter": "python",
   "pygments_lexer": "ipython3",
   "version": "3.12.7"
  }
 },
 "nbformat": 4,
 "nbformat_minor": 2
}
